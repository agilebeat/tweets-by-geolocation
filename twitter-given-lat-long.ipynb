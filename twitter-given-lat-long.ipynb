{
 "cells": [
  {
   "cell_type": "markdown",
   "metadata": {},
   "source": [
    "### Install required packages"
   ]
  },
  {
   "cell_type": "code",
   "execution_count": 1,
   "metadata": {},
   "outputs": [],
   "source": [
    "from tweepy import Stream\n",
    "from tweepy import OAuthHandler\n",
    "from tweepy.streaming import StreamListener\n",
    "from vaderSentiment.vaderSentiment import SentimentIntensityAnalyzer  as Vader\n",
    "from decimal import Decimal\n",
    "import sys\n",
    "\n",
    "import json\n",
    "import boto3"
   ]
  },
  {
   "cell_type": "markdown",
   "metadata": {},
   "source": [
    "### Access twitter APIs using consumer key, consumer secret, access token, access secret."
   ]
  },
  {
   "cell_type": "code",
   "execution_count": 2,
   "metadata": {},
   "outputs": [],
   "source": [
    "#consumer key, consumer secret, access token, access token secret.\n",
    "\n",
    "ckey = \" \"\n",
    "csecret = \" \"\n",
    "atoken = \" \"\n",
    "asecret= \" \""
   ]
  },
  {
   "cell_type": "markdown",
   "metadata": {},
   "source": [
    "### Stop after import $n$ tweets "
   ]
  },
  {
   "cell_type": "code",
   "execution_count": 3,
   "metadata": {},
   "outputs": [],
   "source": [
    "DynaDB = boto3.resource('dynamodb')\n",
    "maproverTable = DynaDB.Table('tweets-by-location')"
   ]
  },
  {
   "cell_type": "code",
   "execution_count": 5,
   "metadata": {},
   "outputs": [],
   "source": [
    "class listener(StreamListener):\n",
    "    def __init__(self, api=None):\n",
    "        super(StreamListener, self).__init__()\n",
    "        self.num_tweets = 0\n",
    "\n",
    "    def on_data(self, data):\n",
    "        all_data = json.loads(data)\n",
    "        tweet = all_data[\"text\"]\n",
    "        \n",
    "        #------------------------------------\n",
    "        #   Sentiment Analysis - output:tweet, sent_score, sent_status\n",
    "        #------------------------------------\n",
    "        sid = Vader()\n",
    "        sent_score = sid.polarity_scores(tweet)\n",
    "        \n",
    "        if sent_score['pos']>0 and sent_score['compound']>0:\n",
    "            sent_status = 'positive'\n",
    "        elif sent_score['neg']>0 and sent_score['compound']<0:\n",
    "            sent_status = 'negative'\n",
    "        else:\n",
    "            sent_status = 'neutral'\n",
    "        \n",
    "        \n",
    "        #----------------------------------------------------------------\n",
    "        #  Extract lat. long. (mass center)\n",
    "        #----------------------------------------------------------------\n",
    "        sent_score = sent_score['compound']\n",
    "        coor = all_data['place']['bounding_box']['coordinates'][0]\n",
    "        longitude = (coor[0][0] + coor[3][0])/2\n",
    "        latitude = (coor[0][1] + coor[1][1])/2\n",
    "     \n",
    "        #------------------------------------------------------\n",
    "        #   Save tweet information to DynamoDB\n",
    "        #------------------------------------------------------\n",
    "        \n",
    "        TweetInfo = {\n",
    "                        'UserID': all_data[\"id_str\"],\n",
    "                        'Created_Time':all_data[\"created_at\"],\n",
    "                        'Text': tweet,\n",
    "                        'Longitude': longitude,\n",
    "                        'Latitude': latitude,\n",
    "                        'Sent_Score': sent_score,\n",
    "                        'Sent_Status': sent_status                                    \n",
    "                    }                     \n",
    "        \n",
    "        TweetInfo = json.dumps(TweetInfo)\n",
    "        TweetInfo = json.loads(TweetInfo, parse_float=Decimal)\n",
    "        \n",
    "        maproverTable.put_item(Item = TweetInfo)\n",
    "        \n",
    "        self.num_tweets += 1\n",
    "        if self.num_tweets < num_tweets:\n",
    "            return True\n",
    "        else:\n",
    "            return False\n",
    "\n",
    "\n",
    "    def on_error(self, status):\n",
    "        print(status)\n",
    "\n",
    "        \n",
    "auth = OAuthHandler(ckey, csecret)\n",
    "auth.set_access_token(atoken, asecret)\n",
    "\n",
    "twitterStream = Stream(auth, listener())\n",
    "\n",
    "num_tweets = 20\n",
    "long_lat = [-77.00, 38.87, -75.00, 39.81]   # Washington D.C. USA [long_1, lat_1, long_2, lat_2]\n",
    "twitterStream.filter(locations = long_lat)"
   ]
  },
  {
   "cell_type": "code",
   "execution_count": null,
   "metadata": {},
   "outputs": [],
   "source": []
  }
 ],
 "metadata": {
  "kernelspec": {
   "display_name": "Python 3",
   "language": "python",
   "name": "python3"
  },
  "language_info": {
   "codemirror_mode": {
    "name": "ipython",
    "version": 3
   },
   "file_extension": ".py",
   "mimetype": "text/x-python",
   "name": "python",
   "nbconvert_exporter": "python",
   "pygments_lexer": "ipython3",
   "version": "3.7.3"
  }
 },
 "nbformat": 4,
 "nbformat_minor": 2
}
